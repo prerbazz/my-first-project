{
  "nbformat": 4,
  "nbformat_minor": 0,
  "metadata": {
    "colab": {
      "provenance": [],
      "authorship_tag": "ABX9TyNCnKxIWcZGjAgnZUK+Ls+I",
      "include_colab_link": true
    },
    "kernelspec": {
      "name": "python3",
      "display_name": "Python 3"
    },
    "language_info": {
      "name": "python"
    }
  },
  "cells": [
    {
      "cell_type": "markdown",
      "metadata": {
        "id": "view-in-github",
        "colab_type": "text"
      },
      "source": [
        "<a href=\"https://colab.research.google.com/github/prerbazz/my-first-project/blob/main/Weather_Data_Qn1.ipynb\" target=\"_parent\"><img src=\"https://colab.research.google.com/assets/colab-badge.svg\" alt=\"Open In Colab\"/></a>"
      ]
    },
    {
      "cell_type": "code",
      "source": [
        "import requests\n",
        "#Constants for the weather API\n",
        "API_URL = \"https://api.openweathermap.org/data/2.5/weather\" # Corrected API endpoint\n",
        "API_KEY = \"b2d562b9b2df6a3e1d740eb4da3043a7\"\n",
        "\n",
        "def fetch_weather_data(location):\n",
        "    #Build the request URL\n",
        "    request_url = f\"{API_URL}?q={location}&APPID={API_KEY}&units=metric\"\n",
        "\n",
        "    #Send the request to the API\n",
        "    response = requests.get(request_url)\n",
        "\n",
        "    # Check for network errors\n",
        "    if response.status_code != 200:\n",
        "        print(f\"API request failed with status code: {response.status_code}\")\n",
        "        return None, response.text  # Return the raw response for debugging\n",
        "\n",
        "    #Parse the JSON response\n",
        "    try:\n",
        "        weather_data = response.json()\n",
        "    except ValueError as e:\n",
        "        print(f\"Error decoding JSON response: {e}\")\n",
        "        return None, response.text  # Return the raw response for debugging\n",
        "\n",
        "    #Extract relevant weather data\n",
        "    temperature = weather_data.get(\"main\", {}).get(\"temp\")\n",
        "    weather_conditions = weather_data.get(\"weather\", [{}])[0].get(\"description\")\n",
        "    humidity = weather_data.get(\"main\", {}).get(\"humidity\")\n",
        "    wind_speed = weather_data.get(\"wind\", {}).get(\"speed\")\n",
        "\n",
        "    return {\n",
        "        \"temperature\": temperature,\n",
        "        \"weather_conditions\": weather_conditions,\n",
        "        \"humidity\": humidity,\n",
        "        \"wind_speed\": wind_speed\n",
        "    }, None\n",
        "\n",
        "def display_weather_data(weather_data):\n",
        "    print(f\"Temperature: {weather_data['temperature']}°C\")\n",
        "    print(f\"Weather Conditions: {weather_data['weather_conditions']}\")\n",
        "    print(f\"Humidity: {weather_data['humidity']}%\")\n",
        "    print(f\"Wind Speed: {weather_data['wind_speed']} m/s\")\n",
        "def main():\n",
        "    # Get the location input from the user\n",
        "    location = input(\"Enter the city name or coordinates (lat,lon): \")\n",
        "\n",
        "    # Fetch the weather data for the input location\n",
        "    weather_data, error = fetch_weather_data(location)\n",
        "\n",
        "    if error:\n",
        "        print(f\"Error: {error}\")\n",
        "    else:\n",
        "        # Display the fetched weather data\n",
        "        display_weather_data(weather_data)\n",
        "\n",
        "if __name__ == \"__main__\":\n",
        "    main()"
      ],
      "metadata": {
        "colab": {
          "base_uri": "https://localhost:8080/"
        },
        "id": "yzTPJYHkcKtK",
        "outputId": "a8cfeb8c-927c-443f-e0bc-da4fbe755a90"
      },
      "execution_count": null,
      "outputs": [
        {
          "output_type": "stream",
          "name": "stdout",
          "text": [
            "Enter the city name or coordinates (lat,lon): chennai\n",
            "Temperature: 30.96°C\n",
            "Weather Conditions: light intensity drizzle\n",
            "Humidity: 73%\n",
            "Wind Speed: 5.14 m/s\n"
          ]
        }
      ]
    }
  ]
}
